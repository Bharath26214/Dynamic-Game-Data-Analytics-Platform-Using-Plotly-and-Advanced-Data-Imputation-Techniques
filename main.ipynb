{
 "cells": [
  {
   "cell_type": "markdown",
   "metadata": {},
   "source": [
    "<h1>Analysis of Steam Games and Categories<h1>\n",
    "\n"
   ]
  },
  {
   "cell_type": "markdown",
   "metadata": {},
   "source": [
    "<h5>Data Sources:</h5>\n",
    "<a href='https://www.kaggle.com/datasets/trolukovich/steam-games-complete-dataset' abc>Dataset-1</a><br>\n",
    "<span>-By Aleksandr Antonov</span><br>\n",
    "<a href='https://www.reddit.com/r/gamedev/comments/165cii0/this_year_we_gathered_data_about_65000_games_in/' abc>Dataset-2</a><br>\n",
    "<span>-By Alex and Lev</span>"
   ]
  },
  {
   "cell_type": "markdown",
   "metadata": {},
   "source": [
    "<h3>1. Introduction</h3>\n",
    "\n",
    "<p>The gaming industry has witnessed exponential growth over the years, with digital distribution platforms like <b>Steam</b> playing a pivotal role in reshaping how games are accessed and experienced. Steam, hosting thousands of games spanning diverse genres, provides an immense amount of data that can offer meaningful insights and inferences into the trends, success factors, and categories of games that dominated or will dominate the market.\n",
    "\n",
    "This project aims to delve into the vast datasets of Steam games, exploring their categories, revenue, and review metrics to uncover patterns and trends that define the gaming landscape. By leveraging interactive visualizations and comprehensive data analysis, the project provides actionable insights for game developers, publishers, and gaming enthusiasts alike.</p>"
   ]
  },
  {
   "cell_type": "markdown",
   "metadata": {},
   "source": [
    "<h3>2. Motivation</h3>\n",
    "\n",
    "<p>Being gamers, we have always been interested in what makes games successful or well-liked. Playing and exploring various game genres takes up a lot of our time, and we frequently ponder why some games perform so well while others don’t. Because of this, we became curious about the gaming industry and the elements that contribute to its success.\n",
    "There is a lot of information about games on platforms like Steam, including player preferences, earnings, and reviews. However, it can be difficult and challenging to comprehend raw data. We aimed to design something straightforward that would aid the viewing and analysis of this data. We chose to create a dashboard for this project because of this.\n",
    "</p>"
   ]
  },
  {
   "cell_type": "code",
   "execution_count": 1,
   "metadata": {},
   "outputs": [],
   "source": [
    "%load_ext autoreload\n",
    "%autoreload 2\n",
    "\n",
    "# libraries\n",
    "import pandas as pd\n",
    "\n",
    "# modules\n",
    "from modules.DataCleaner import DataCleaner\n",
    "from modules.Imputer import Imputer\n",
    "from modules.DashBoard import DashBoard\n",
    "\n",
    "import warnings\n",
    "warnings.filterwarnings('ignore')"
   ]
  },
  {
   "cell_type": "code",
   "execution_count": 2,
   "metadata": {},
   "outputs": [],
   "source": [
    "df1 = pd.read_csv('/workspaces/final-project-Bharath26214/Project/Data/steam_dataset-1.csv')\n",
    "df2 = pd.read_csv('/workspaces/final-project-Bharath26214/Project/Data/steam_dataset-2.csv')"
   ]
  },
  {
   "cell_type": "markdown",
   "metadata": {},
   "source": [
    "<h3>3. Methods<h3>"
   ]
  },
  {
   "cell_type": "markdown",
   "metadata": {},
   "source": [
    "<div style:{'line-height':1.5;}>\n",
    "<h4>3.1 Data Integration</h4>\n",
    "\n",
    "<div>In order to carry out the project we have used a couple of datasets to show various insights. The datasets were from two different sources so we thought of integrating the two datasets. The main challenge was there were a lot of noise and inconsistencies in the datasets, also we couldn't find a common feature present in both datasets to combine them.</div>\n",
    "<br>\n",
    "\n",
    "<div>After carefully viewing the features of both datasets we found that there is a common feature not directly. The first dataset consists of <b>'url'</b> which consists of an app_id which is a unique to each game. For instance: The url of game DOOM is https://store.steampowered.com/app/379720/DOOM/ for which the app_id is 379720 which is present in the second dataset. Therefore, The datasets have been merged based on the app_id to increase the quantity of data which could help in the visualization process.</div>\n",
    "\n",
    "</div>"
   ]
  },
  {
   "cell_type": "markdown",
   "metadata": {},
   "source": [
    "<img src=\"/workspaces/final-project-Bharath26214/Project/images/columns_1.png\" width=\"500\" height='300'>\n",
    "<img src=\"/workspaces/final-project-Bharath26214/Project/images/columns_2.png\" width=\"500\" height='300'>"
   ]
  },
  {
   "cell_type": "code",
   "execution_count": 3,
   "metadata": {},
   "outputs": [
    {
     "name": "stdout",
     "output_type": "stream",
     "text": [
      "----------Dataset-1 (field: url)-----------\n",
      "0      https://store.steampowered.com/app/379720/DOOM/\n",
      "1    https://store.steampowered.com/app/578080/PLAY...\n",
      "2    https://store.steampowered.com/app/637090/BATT...\n",
      "3      https://store.steampowered.com/app/221100/DayZ/\n",
      "4    https://store.steampowered.com/app/8500/EVE_On...\n",
      "Name: url, dtype: object\n",
      "----------Dataset-2 (field: App ID)--------\n",
      "0       730\n",
      "1    578080\n",
      "2       570\n",
      "3    271590\n",
      "4    359550\n",
      "Name: App ID, dtype: int64\n"
     ]
    }
   ],
   "source": [
    "print('----------Dataset-1 (field: url)-----------')\n",
    "print(df1['url'].head())\n",
    "\n",
    "print('----------Dataset-2 (field: App ID)--------')\n",
    "print(df2['App ID'].head())"
   ]
  },
  {
   "cell_type": "markdown",
   "metadata": {},
   "source": [
    "<h4>3.2 Data Cleaning</h4>\n",
    "\n",
    "<div>The next step was to clean the data as it consists of lot of noise and inconsistencies after it has been integrated. There are a bunch of cleaning procedures done one after another to fine tune our data<div><br>\n",
    "\n",
    "<ol>\n",
    "<li><b>Drop Unnecessary Features:</b> All the columns in our dataset aren't needed for our analysis especially columns such as 'game_description', 'game_details', 'developer', 'publisher' so we have dropped the dataset inorder to reduce the complexity of data.</li><br>\n",
    "\n",
    "<li><b>Handling NAN values:</b> Some of the textual columns which are null are replaced with empty strings as it would reduce the chance of errors.</li><br>\n",
    "\n",
    "<li><b>Fill Game Names which are empty:</b> Few of the game names in the dataset are null which are replaced with the help of url feature. For example: The url for a certain game is https://store.steampowered.com/app/379720/DOOM/, the game name can be retrieved from the url using string processing methods which turns out to be DOOM.</li><br>\n",
    "\n",
    "<li><b>Integrating similar Features:</b> The features which are present in both datasets initially when integrated have two features with identical information. For instance: 'Release Date' and 'release_date' which shows the date when the game was launched. Such features are combined to reduce redundancy in the data.</li><br>\n",
    "\n",
    "<li><b>Type Casting:</b> The features 'lauch_price', 'Estimated Revenue' and 'review_score' which should be numeric provided their names bu they actually are objects due to the data being scrapped from web where the data retrieved will be '$8.99' which is considered as string by the scrapping tool. Such features are converted into floating point numbers to understand the trends and patterns of data.</li><br>\n",
    "\n",
    "<li><b>Feature Extraction:</b> A new feature 'review_summary' is retrieved from the 'all_reviews' column to get the overall game outcome. For example: The entry in 'all_reviews' column will be like--- Very Positive,(42,550),- 92% of the 42,550 user reviews for this game are positive. We have taken the outcome of the game which is 'Very Positive'.</li><br>\n",
    "\n",
    "<li><b>Imputing Null Values:</b> The nan values in 'Reviews Total' and 'review_score' have been replaced with median and mean respectively. The reason behind this is because the data in 'Reviews Total' is highly skewed and 'reviews_total' is pretty normally distributed.</li>\n",
    "\n",
    "</ol>"
   ]
  },
  {
   "cell_type": "markdown",
   "metadata": {},
   "source": [
    "<h5>'all_reviews' column</h5>\n",
    "<img src='/workspaces/final-project-Bharath26214/Project/images/reviews_column.png' width='400' height='400'>"
   ]
  },
  {
   "cell_type": "code",
   "execution_count": 4,
   "metadata": {},
   "outputs": [],
   "source": [
    "df = DataCleaner(df1, df2).clean_data()"
   ]
  },
  {
   "cell_type": "code",
   "execution_count": 5,
   "metadata": {},
   "outputs": [
    {
     "data": {
      "text/html": [
       "<div>\n",
       "<style scoped>\n",
       "    .dataframe tbody tr th:only-of-type {\n",
       "        vertical-align: middle;\n",
       "    }\n",
       "\n",
       "    .dataframe tbody tr th {\n",
       "        vertical-align: top;\n",
       "    }\n",
       "\n",
       "    .dataframe thead th {\n",
       "        text-align: right;\n",
       "    }\n",
       "</style>\n",
       "<table border=\"1\" class=\"dataframe\">\n",
       "  <thead>\n",
       "    <tr style=\"text-align: right;\">\n",
       "      <th></th>\n",
       "      <th>name</th>\n",
       "      <th>Reviews Total</th>\n",
       "      <th>Release Date</th>\n",
       "      <th>Tags</th>\n",
       "      <th>Revenue Estimated</th>\n",
       "      <th>launch_price</th>\n",
       "      <th>review_score</th>\n",
       "      <th>review_summary</th>\n",
       "    </tr>\n",
       "  </thead>\n",
       "  <tbody>\n",
       "    <tr>\n",
       "      <th>0</th>\n",
       "      <td>Counter-Strike</td>\n",
       "      <td>137421.0</td>\n",
       "      <td>2000-11-01</td>\n",
       "      <td>e-sports,1980s,Action,Competitive,Multiplayer,...</td>\n",
       "      <td>1372835.79</td>\n",
       "      <td>9.99</td>\n",
       "      <td>97.0</td>\n",
       "      <td>Overwhelmingly Positive</td>\n",
       "    </tr>\n",
       "    <tr>\n",
       "      <th>1</th>\n",
       "      <td>Team Fortress Classic</td>\n",
       "      <td>5475.0</td>\n",
       "      <td>1999-04-01</td>\n",
       "      <td>Action,Competitive,Violent,Multiplayer,Mod,Tea...</td>\n",
       "      <td>27320.25</td>\n",
       "      <td>4.99</td>\n",
       "      <td>85.0</td>\n",
       "      <td>Very Positive</td>\n",
       "    </tr>\n",
       "    <tr>\n",
       "      <th>2</th>\n",
       "      <td>Day of Defeat</td>\n",
       "      <td>3692.0</td>\n",
       "      <td>2003-05-01</td>\n",
       "      <td>Action,Multiplayer,Team Based,Tactical,Class-B...</td>\n",
       "      <td>18423.08</td>\n",
       "      <td>4.99</td>\n",
       "      <td>87.0</td>\n",
       "      <td>Very Positive</td>\n",
       "    </tr>\n",
       "    <tr>\n",
       "      <th>3</th>\n",
       "      <td>Deathmatch Classic</td>\n",
       "      <td>1923.0</td>\n",
       "      <td>2001-06-01</td>\n",
       "      <td>Action,Competitive,Multiplayer,Classic,Singlep...</td>\n",
       "      <td>9595.77</td>\n",
       "      <td>4.99</td>\n",
       "      <td>80.0</td>\n",
       "      <td>Very Positive</td>\n",
       "    </tr>\n",
       "    <tr>\n",
       "      <th>4</th>\n",
       "      <td>Half-Life: Opposing Force</td>\n",
       "      <td>15498.0</td>\n",
       "      <td>1999-11-01</td>\n",
       "      <td>Action,Classic,Military,Singleplayer,Co op,Sci...</td>\n",
       "      <td>77335.02</td>\n",
       "      <td>4.99</td>\n",
       "      <td>95.0</td>\n",
       "      <td>Very Positive</td>\n",
       "    </tr>\n",
       "  </tbody>\n",
       "</table>\n",
       "</div>"
      ],
      "text/plain": [
       "                        name  Reviews Total Release Date  \\\n",
       "0             Counter-Strike       137421.0   2000-11-01   \n",
       "1      Team Fortress Classic         5475.0   1999-04-01   \n",
       "2              Day of Defeat         3692.0   2003-05-01   \n",
       "3         Deathmatch Classic         1923.0   2001-06-01   \n",
       "4  Half-Life: Opposing Force        15498.0   1999-11-01   \n",
       "\n",
       "                                                Tags  Revenue Estimated  \\\n",
       "0  e-sports,1980s,Action,Competitive,Multiplayer,...         1372835.79   \n",
       "1  Action,Competitive,Violent,Multiplayer,Mod,Tea...           27320.25   \n",
       "2  Action,Multiplayer,Team Based,Tactical,Class-B...           18423.08   \n",
       "3  Action,Competitive,Multiplayer,Classic,Singlep...            9595.77   \n",
       "4  Action,Classic,Military,Singleplayer,Co op,Sci...           77335.02   \n",
       "\n",
       "   launch_price  review_score           review_summary  \n",
       "0          9.99          97.0  Overwhelmingly Positive  \n",
       "1          4.99          85.0            Very Positive  \n",
       "2          4.99          87.0            Very Positive  \n",
       "3          4.99          80.0            Very Positive  \n",
       "4          4.99          95.0            Very Positive  "
      ]
     },
     "execution_count": 5,
     "metadata": {},
     "output_type": "execute_result"
    }
   ],
   "source": [
    "df.head()"
   ]
  },
  {
   "cell_type": "markdown",
   "metadata": {},
   "source": [
    "<h4>3.3 Imputing Missing Values</h4>\n",
    "\n",
    "<div>While extracting the feature 'review_summary' from 'all_reviews' there were rows which have '' strings filled from the cleaning procedure. The 'review_summary' being a categorical feature cannot be replaced with the measures of central tendency. We thought of a different procedure to introduce Machine Learning to impute these missing values in the 'review_summary' column. </div>\n",
    "\n",
    "<h5>Algorithm: eXtreme Gradient Boosting Classifier</h5>\n",
    "\n",
    "<p>XGBoost Algorithm resided in the xgboost library is a powerful machine Learning Algorithm for both classification and regression tasks. It is a tree based algorithm extended version of Gradient Boosting algorithm which uses boosting technique(parallel processing) train the model.</p>\n",
    "\n",
    "<p>Features of XGBoost</p>\n",
    "\n",
    "<ol>\n",
    "<li>Regularization: Supports L1 (Lasso) and L2 (Ridge) regularization, which helps prevent overfitting.\n",
    "<li>Handling Missing Data: Automatically learns the best direction for missing values during tree splitting.</li>\n",
    "<li>Parallel Processing: Utilizes CPU or GPU resources efficiently, enabling faster computation.</li>\n",
    "</ol>\n",
    "\n",
    "<h5>Optuna: Hyper Parameter Optimization</h5>\n",
    "\n",
    "<p>Optuna is an automatic hyperparamter optimization technique designed for machine learning algorithms, especially for the tree based algorithms which consists of numerous parameters. The objective of Optuna is to find the best parameters which improve the scoring metrics (accuracy, precision, F1 score, etc) for 'n' number of trials</p>\n",
    "\n",
    "<p>Features of Optuna</p>\n",
    "\n",
    "<ol>\n",
    "<li>Internally used Bayesian Optimization methods to get best parameters.</li>\n",
    "<li>The search space can be changed dynamically based on trial results.</li>\n",
    "<li>Consists of inbuilt visualization tools to show the metrics of each trial over time.</li>\n",
    "</ol>\n",
    "\n",
    "<h5>Procedure</h5>\n",
    "\n",
    "<p>The 'review_summary' column is filled with the combination of XgBoost Classifier and Optuna. The ultimate review of the game depends on the price, number of reviews and percentage of positive/negative reviews. Considering these features as independent features and 'review_summary' as the dependent feature we ran the model for 50 trials to get the best possible parameters and used them to predict the unknown/missing values.</p>"
   ]
  },
  {
   "cell_type": "code",
   "execution_count": 6,
   "metadata": {},
   "outputs": [],
   "source": [
    "df = Imputer(df, False).predict_data() # switch to True to enable OPTUNA training"
   ]
  },
  {
   "cell_type": "markdown",
   "metadata": {},
   "source": [
    "<h5>Best Parameters obtained by optuna for 50 trials with accuracy 91%</h5>\n",
    "<img src='/workspaces/final-project-Bharath26214/Project/images/optuna_params.png'>"
   ]
  },
  {
   "cell_type": "markdown",
   "metadata": {},
   "source": [
    "<h4>3.4 Data Visualization</h4>\n",
    "\n",
    "<h5>Plotly Library</h5>\n",
    "\n",
    "<p>Plotly is an interactive, open-source data visualization library created in python, R, javascript and many more programming languages. I is built on top of D3.js and can interact with frameworks such as Dash and JupyterDash.</p>\n",
    "\n",
    "<p>Features of Plotly</p>\n",
    "\n",
    "<ol>\n",
    "<li>Interactive Visualizations: Highly interactive charts with zooming, panning, and tooltips.</li>\n",
    "<li>Wide range of Chart types: Plotly consists of wide range of charts ranging from basic plots such as scatter plots and bar charts to specialized charts like sankey diagrams, Tree Maps and Network graphs.</li>\n",
    "<li>3D Plotting: Allows visualization on higher dimensional datasets.</li>\n",
    "</ol>\n",
    "\n",
    "\n",
    "<h5>Plots:</h5>\n",
    "\n",
    "<ol>\n",
    "<li><b>Percentage of Overall Game Outcome:</b>\n",
    "<p> The pie chart which shows the proportion of 'review_summary' of all games. It was evident from the pie chart that over 60% of games are reviewed as positive or above where over 30% of games have mixed reviews and the rest haven't done well in the market.</p>\n",
    "</li>\n",
    "<br>\n",
    "\n",
    "<li><b>Top Games by Revenue vs. Top Games by Reviews:</b>\n",
    "<p>The bar charts show top 10 games which have collected the maximum revenue and the games which have the most number of reviews. Interestingly. The top 3 games with the highest revenue earned are the top 3 games which have most number of reviews which shows the features are highly correlated in a positive manner.\n",
    "</p>\n",
    "</li>\n",
    "<br>\n",
    "\n",
    "\n",
    "<li><b>Revenue Collected by Top Categories over time:</b>\n",
    "<p>This tab shows two different plotting diagrams, one is the bar chart which represents the Top 20 categories which have earned the highest revenue with 'Co Op' being ranked first followed by 'action', 'first person' and so on. The pie charts represent the popular tags which have collected a proportion of Total revenue over four time periods. The action, first person and single player games are reigning their popularity for over two decades.\n",
    "</p>\n",
    "</li>\n",
    "<br>\n",
    "\n",
    "<li><b>Reviews scores of Game Categories over time periods:</b>\n",
    "<p>This tab explains the various selected tags and their trend over time. The metric here considered is weighted average review score which is the weighted average of number of reviews and review scores combined. This is done because the data consists of game having one review with review score 100. Such analysis wouldn't be beneficial to draw any conclusions. The line chart shows the certain tags with their review scores (weighted).\n",
    "</p>\n",
    "</li>\n",
    "<br>\n",
    "\n",
    "<li><b>Analysis of Revenue vs. Review Score:</b>\n",
    "<p>This tab shows the games which have collected revenue over 5 Million USD and explains four significant features for game's success. The bubble chart shows the year in which the game was released on the x axis along with the review score on the y axis, the size of the bubble shows the estimated revenue collected by the game and the color shows the overall game outcome. It is clear that the number of games which have collected revenue over $5 Million have increased with just two games until 2010 and increased gradually in the next decade.\n",
    "</p>\n",
    "</li>\n",
    "<br>\n",
    "\n",
    "<li><b>Number of Games Released and the revenue earned by them over years:</b>\n",
    "<p>This Tab shows the number of games released and the combined revenue of the games in that particular year. It is striking from the graph that the number of games produced and the revenue earned by them has drastically increased. The maximum revenue collected by the games is in the year 2012 with 152 Million USD and stayed in that range until 2022. The number of game released has also went up reaching the maximum in year 2015 when 8800 were released.\n",
    "</p>\n",
    "</li>\n",
    "<br>\n",
    "\n",
    "</ol>"
   ]
  },
  {
   "cell_type": "markdown",
   "metadata": {},
   "source": [
    "<h4>3.5 Dashboard Implemention</h4>\n",
    "\n",
    "<h5>Dash Library</h5>\n",
    "\n",
    "<p>Dash is a powerful Python framework for building web-based, interactive data visualization dashboards. It integrates seamlessly with Python libraries like Plotly, Pandas, and NumPy. Dash is often used to create interactive, production-ready web applications for data visualization without needing extensive knowledge of web development.</p>\n",
    "\n",
    "<p>Features of Dash:</p>\n",
    "\n",
    "<ol>\n",
    "<li>Dash provides pre-built components for graphs, tables, sliders, dropdowns, and more.</li>\n",
    "<li>Dash applications are reactive. User inputs (e.g., selecting a dropdown or adjusting a slider) dynamically update outputs (e.g., charts, tables).</li>\n",
    "<li>Dash integrates seamlessly with machine learning models, APIs, and databases, making it a good choice for interactive model visualizations and real-time analytics.</li>\n",
    "</ol>\n",
    "\n",
    "<h5>Procedure:</h5>\n",
    "\n",
    "<p>Dash library is used to build the final deliverable which is the dashboard. It is used to render the plotly graphs as dash components in each tab. The final application is ran on a randomized port.</p>"
   ]
  },
  {
   "cell_type": "code",
   "execution_count": 8,
   "metadata": {},
   "outputs": [
    {
     "data": {
      "text/html": [
       "\n",
       "        <iframe\n",
       "            width=\"100%\"\n",
       "            height=\"650\"\n",
       "            src=\"http://127.0.0.1:8393/\"\n",
       "            frameborder=\"0\"\n",
       "            allowfullscreen\n",
       "            \n",
       "        ></iframe>\n",
       "        "
      ],
      "text/plain": [
       "<IPython.lib.display.IFrame at 0x76359126be60>"
      ]
     },
     "metadata": {},
     "output_type": "display_data"
    }
   ],
   "source": [
    "dashboard = DashBoard(df).run()"
   ]
  },
  {
   "cell_type": "markdown",
   "metadata": {},
   "source": [
    "<h4>4. Results</h4>\n",
    "\n",
    "<h5>Game Reviews</h5>\n",
    "<p>Positive or very positive reviews were given to the majority of the games on Steam. Only a small number of games received negative reviews. Games with more reviews were frequently more profitable, showing a correlation between visibility and success.</p>\n",
    "\n",
    "<h5>Popular Games and Types</h5>\n",
    "<p>The games with the highest revenue were Counter-Strike: Global Offensive, PUBG, and Dota 2. The most lucrative game genres were co-op, action, and first-person. These genres remained popular over time, consistently generating high revenue.</p>\n",
    "\n",
    "<h5>Trends Over Time</h5>\n",
    "<p>Some genres, such as trading card games and artificial intelligence, have become more popular in recent years. Meanwhile, older genres like \"Classic\" and \"Masterpiece\" saw a decline in player interest and revenue generation.</p>\n",
    "\n",
    "<h5>Revenue and Reviews</h5>\n",
    "<p>Games with very positive reviews often had the highest revenue. However, in recent years, there have been examples of highly profitable games that received mixed reviews, showing that other factors also contribute to financial success.</p>\n",
    "\n",
    "<h5>Game Releases and Revenue Growth</h5>\n",
    "<p>The number of games released annually increased from 50 in 2000 to over 2,000 in 2023. The highest revenue year was 2015, driven by blockbuster titles like Call of Duty and Grand Theft Auto V. Revenue increased again in 2020, likely influenced by the pandemic, which led to more people playing games.</p>\n",
    "\n",
    "<h5>Revenue by Time Period</h5>\n",
    "<p>Revenue grew significantly over time, starting at $283 million from 2000 to 2005 and surpassing $21 billion between 2018 and 2023. Action and co-op games consistently contributed a large portion of the revenue, while other genres gained popularity and market share in later years.</p>\n"
   ]
  },
  {
   "cell_type": "markdown",
   "metadata": {},
   "source": [
    "<h3>5. Conclusions</h3>\n",
    "\n",
    "<div>Data can be used to better understand the gaming market, as this project demonstrates. The dashboard clearly shows game categories which are popular, the relationship between reviews and earnings, and the evolution of player interests. The most popular game genres over time were discovered to be action, cooperative, and first-person. Recently, new genres like artificial intelligence and trading card games have gained popularity. Additionally, the analysis demonstrates the growth in both revenue and game numbers over time, particularly during pandemic years. When deciding what kinds of games to make and how to increase their chances of success, game developers and marketers can use this dashboard to make better decisions.</div>"
   ]
  },
  {
   "cell_type": "markdown",
   "metadata": {},
   "source": [
    "<h3>References</h3>\n",
    "\n",
    "<ol>\n",
    "<li><a href=\"https://pandas.pydata.org/\">Pandas</a></li>\n",
    "<li><a href=\"https://xgboost.readthedocs.io/en/stable/\">XGBoost Algorithm</a></li>\n",
    "<li><a href=\"https://optuna.org/\">Optuna</a></li>\n",
    "<li><a href=\"https://dash.plotly.com/\">Dash and Plotly</a></li>\n",
    "<li><a href=\"https://www.semanticscholar.org/reader/3ad95671f78d3205ef9f183f241d5884758a2799\">Popularity of Steam Games(research paper)</a></li>\n",
    "\n",
    "\n",
    "</ol>"
   ]
  }
 ],
 "metadata": {
  "kernelspec": {
   "display_name": "Python 3",
   "language": "python",
   "name": "python3"
  },
  "language_info": {
   "codemirror_mode": {
    "name": "ipython",
    "version": 3
   },
   "file_extension": ".py",
   "mimetype": "text/x-python",
   "name": "python",
   "nbconvert_exporter": "python",
   "pygments_lexer": "ipython3",
   "version": "3.12.5"
  }
 },
 "nbformat": 4,
 "nbformat_minor": 2
}
